{
 "cells": [
  {
   "cell_type": "code",
   "execution_count": 1,
   "id": "e07064f1",
   "metadata": {},
   "outputs": [],
   "source": [
    "import numpy as np\n",
    "import matplotlib.pyplot as plt"
   ]
  },
  {
   "cell_type": "code",
   "execution_count": 2,
   "id": "0083afdf",
   "metadata": {},
   "outputs": [],
   "source": [
    "x = np.random.rand(100,1) #Taking 100 random input variables with value less than 1"
   ]
  },
  {
   "cell_type": "code",
   "execution_count": 3,
   "id": "b82ba98c",
   "metadata": {},
   "outputs": [],
   "source": [
    "y = 2 + 3*x + np.random.rand(100,1) #Taking a function(y = 2+3x) and adding randomness to it"
   ]
  },
  {
   "cell_type": "code",
   "execution_count": 4,
   "id": "c8712215",
   "metadata": {},
   "outputs": [
    {
     "data": {
      "image/png": "[encoded data removed]",
      "text/plain": [
       "<Figure size 432x288 with 1 Axes>"
      ]
     },
     "metadata": {
      "needs_background": "light"
     },
     "output_type": "display_data"
    }
   ],
   "source": [
    "plt.scatter(x,y,s=10)\n",
    "plt.xlabel('x')\n",
    "plt.ylabel('y')\n",
    "plt.show()"
   ]
  },
  {
   "cell_type": "code",
   "execution_count": 5,
   "id": "5b6346ba",
   "metadata": {},
   "outputs": [],
   "source": [
    "x_dash = np.array([np.append(item,1) for item in x]) "
   ]
  },
  {
   "cell_type": "code",
   "execution_count": 6,
   "id": "008859e8",
   "metadata": {},
   "outputs": [],
   "source": [
    "def fit(x,y,n,eta):\n",
    "    #x is inputs\n",
    "    #y is outputs\n",
    "    #n is the number of iterations\n",
    "    #eta is the learning rate\n",
    "    \n",
    "    cost_ = [] \n",
    "    w_ = np.zeros((x.shape[1],1))\n",
    "    \n",
    "    for _ in range(n):\n",
    "        y_pred = np.dot(x,w_)\n",
    "        residuals = y_pred-y\n",
    "        gradient_vector = np.dot(x.T,residuals)\n",
    "        w_ = w_ - (eta * gradient_vector)\n",
    "        cost = np.sum((residuals)**2)\n",
    "        cost_.append(cost)\n",
    "    return w_"
   ]
  },
  {
   "cell_type": "code",
   "execution_count": 7,
   "id": "745548ba",
   "metadata": {},
   "outputs": [],
   "source": [
    "def predict(x,w_):\n",
    "    return(np.dot(x,w_))"
   ]
  },
  {
   "cell_type": "code",
   "execution_count": 8,
   "id": "0b357d2c",
   "metadata": {},
   "outputs": [],
   "source": [
    "w_star = fit(x_dash, y, 100, 0.01)"
   ]
  },
  {
   "cell_type": "code",
   "execution_count": 9,
   "id": "1fada368",
   "metadata": {},
   "outputs": [
    {
     "data": {
      "text/plain": [
       "array([[2.91489868],\n",
       "       [2.59254199]])"
      ]
     },
     "execution_count": 9,
     "metadata": {},
     "output_type": "execute_result"
    }
   ],
   "source": [
    "w_star"
   ]
  },
  {
   "cell_type": "code",
   "execution_count": 10,
   "id": "f35a9545",
   "metadata": {},
   "outputs": [],
   "source": [
    "y_pred = predict(x_dash,w_star)"
   ]
  },
  {
   "cell_type": "code",
   "execution_count": 11,
   "id": "89384b24",
   "metadata": {},
   "outputs": [
    {
     "data": {
      "image/png": "[encoded data removed]",
      "text/plain": [
       "<Figure size 432x288 with 1 Axes>"
      ]
     },
     "metadata": {
      "needs_background": "light"
     },
     "output_type": "display_data"
    }
   ],
   "source": [
    "plt.scatter(x,y,s=10)\n",
    "plt.xlabel('x')\n",
    "plt.ylabel('y')\n",
    "plt.plot(x,y_pred, color ='red')\n",
    "plt.show()"
   ]
  },
  {
   "cell_type": "code",
   "execution_count": null,
   "id": "a26f818f",
   "metadata": {},
   "outputs": [],
   "source": []
  }
 ],
 "metadata": {
  "kernelspec": {
   "display_name": "Python 3",
   "language": "python",
   "name": "python3"
  },
  "language_info": {
   "codemirror_mode": {
    "name": "ipython",
    "version": 3
   },
   "file_extension": ".py",
   "mimetype": "text/x-python",
   "name": "python",
   "nbconvert_exporter": "python",
   "pygments_lexer": "ipython3",
   "version": "3.8.8"
  }
 },
 "nbformat": 4,
 "nbformat_minor": 5
}
